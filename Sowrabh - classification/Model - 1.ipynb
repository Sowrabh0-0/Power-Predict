{
 "cells": [
  {
   "cell_type": "code",
   "id": "initial_id",
   "metadata": {
    "collapsed": true,
    "ExecuteTime": {
     "end_time": "2024-12-25T14:14:59.072232Z",
     "start_time": "2024-12-25T14:14:30.601119Z"
    }
   },
   "source": [
    "import torch\n",
    "import torchvision\n",
    "import torchvision.transforms as T\n",
    "import pandas as pd\n",
    "from PIL import Image\n",
    "import os\n",
    "import logging\n",
    "from torch.utils.data import Dataset\n",
    "\n",
    "print(\"PyTorch version:\", torch.__version__)\n",
    "device = torch.device(\"cuda\" if torch.cuda.is_available() else \"cpu\")\n",
    "print(\"Device:\", device)\n"
   ],
   "outputs": [
    {
     "name": "stdout",
     "output_type": "stream",
     "text": [
      "PyTorch version: 2.5.1+cu118\n",
      "Device: cuda\n"
     ]
    }
   ],
   "execution_count": 1
  },
  {
   "metadata": {
    "ExecuteTime": {
     "end_time": "2024-12-25T14:15:40.524291Z",
     "start_time": "2024-12-25T14:15:39.785300Z"
    }
   },
   "cell_type": "code",
   "source": [
    "acuity_path = \"../acuityvalues_modified_based_on_sphere.xlsx\"\n",
    "\n",
    "df = pd.read_excel(acuity_path)\n",
    "\n",
    "display(df.head())\n",
    "\n",
    "print(\"Columns in the dataset:\")\n",
    "print(df.columns)"
   ],
   "id": "7aa3e0edcc4a2d6e",
   "outputs": [
    {
     "data": {
      "text/plain": [
       "   patient  r sphere  r cylinder  l sphere  l cylinder  r class  l class\n",
       "0        1      0.25       -0.25      0.00       -0.25        2        0\n",
       "1        2     -0.50       -0.50      0.00       -0.50        1        0\n",
       "2        3      1.75       -0.75      0.00       -0.25        2        0\n",
       "3        4      0.25        0.00      0.25        0.00        2        2\n",
       "4        5      0.25        0.25      0.25        0.00        2        2"
      ],
      "text/html": [
       "<div>\n",
       "<style scoped>\n",
       "    .dataframe tbody tr th:only-of-type {\n",
       "        vertical-align: middle;\n",
       "    }\n",
       "\n",
       "    .dataframe tbody tr th {\n",
       "        vertical-align: top;\n",
       "    }\n",
       "\n",
       "    .dataframe thead th {\n",
       "        text-align: right;\n",
       "    }\n",
       "</style>\n",
       "<table border=\"1\" class=\"dataframe\">\n",
       "  <thead>\n",
       "    <tr style=\"text-align: right;\">\n",
       "      <th></th>\n",
       "      <th>patient</th>\n",
       "      <th>r sphere</th>\n",
       "      <th>r cylinder</th>\n",
       "      <th>l sphere</th>\n",
       "      <th>l cylinder</th>\n",
       "      <th>r class</th>\n",
       "      <th>l class</th>\n",
       "    </tr>\n",
       "  </thead>\n",
       "  <tbody>\n",
       "    <tr>\n",
       "      <th>0</th>\n",
       "      <td>1</td>\n",
       "      <td>0.25</td>\n",
       "      <td>-0.25</td>\n",
       "      <td>0.00</td>\n",
       "      <td>-0.25</td>\n",
       "      <td>2</td>\n",
       "      <td>0</td>\n",
       "    </tr>\n",
       "    <tr>\n",
       "      <th>1</th>\n",
       "      <td>2</td>\n",
       "      <td>-0.50</td>\n",
       "      <td>-0.50</td>\n",
       "      <td>0.00</td>\n",
       "      <td>-0.50</td>\n",
       "      <td>1</td>\n",
       "      <td>0</td>\n",
       "    </tr>\n",
       "    <tr>\n",
       "      <th>2</th>\n",
       "      <td>3</td>\n",
       "      <td>1.75</td>\n",
       "      <td>-0.75</td>\n",
       "      <td>0.00</td>\n",
       "      <td>-0.25</td>\n",
       "      <td>2</td>\n",
       "      <td>0</td>\n",
       "    </tr>\n",
       "    <tr>\n",
       "      <th>3</th>\n",
       "      <td>4</td>\n",
       "      <td>0.25</td>\n",
       "      <td>0.00</td>\n",
       "      <td>0.25</td>\n",
       "      <td>0.00</td>\n",
       "      <td>2</td>\n",
       "      <td>2</td>\n",
       "    </tr>\n",
       "    <tr>\n",
       "      <th>4</th>\n",
       "      <td>5</td>\n",
       "      <td>0.25</td>\n",
       "      <td>0.25</td>\n",
       "      <td>0.25</td>\n",
       "      <td>0.00</td>\n",
       "      <td>2</td>\n",
       "      <td>2</td>\n",
       "    </tr>\n",
       "  </tbody>\n",
       "</table>\n",
       "</div>"
      ]
     },
     "metadata": {},
     "output_type": "display_data"
    },
    {
     "name": "stdout",
     "output_type": "stream",
     "text": [
      "Columns in the dataset:\n",
      "Index(['patient', 'r sphere', 'r cylinder', 'l sphere', 'l cylinder',\n",
      "       'r class', 'l class'],\n",
      "      dtype='object')\n"
     ]
    }
   ],
   "execution_count": 2
  },
  {
   "metadata": {
    "ExecuteTime": {
     "end_time": "2024-12-25T14:15:41.773748Z",
     "start_time": "2024-12-25T14:15:41.608268Z"
    }
   },
   "cell_type": "code",
   "source": [
    "import pandas as pd\n",
    "import os\n",
    "import logging\n",
    "\n",
    "# Setup Logger\n",
    "logging.basicConfig(level=logging.INFO, format='%(asctime)s - %(levelname)s - %(message)s')\n",
    "\n",
    "# Load the Excel data\n",
    "def load_excel_data(filepath):\n",
    "    \"\"\"\n",
    "    Load Excel data and drop rows with missing patient IDs or class values.\n",
    "    \"\"\"\n",
    "    logging.info(\"Loading Excel data from: %s\", filepath)\n",
    "    data = pd.read_excel(filepath)\n",
    "    initial_count = len(data)\n",
    "\n",
    "    # Drop rows where 'patient', 'r class', or 'l class' are NaN\n",
    "    data = data.dropna(subset=['patient', 'r class', 'l class'])\n",
    "    cleaned_count = len(data)\n",
    "\n",
    "    logging.info(\"Total rows in Excel: %d\", initial_count)\n",
    "    logging.info(\"Rows after dropping missing patient IDs or class values: %d\", cleaned_count)\n",
    "\n",
    "    # Ensure patient IDs are integers\n",
    "    data['patient'] = data['patient'].apply(lambda x: int(x) if pd.notnull(x) else x)\n",
    "    return data\n",
    "\n",
    "# Verify that all required images exist for a patient\n",
    "def verify_images(data, root_dir):\n",
    "    \"\"\"\n",
    "    Check if all required images exist for each patient. Drop rows if any image is missing.\n",
    "    \"\"\"\n",
    "    valid_rows = []\n",
    "    for _, row in data.iterrows():\n",
    "        patient_id = int(row['patient'])  # Ensure patient ID is an integer\n",
    "        # Folder path for this patient\n",
    "        patient_folder = os.path.join(root_dir, str(patient_id))\n",
    "\n",
    "        # Expected image paths\n",
    "        left_ir = os.path.normpath(os.path.join(patient_folder, f\"{patient_id}_LEFT_IR.jpg\")).replace(\"\\\\\", \"/\")\n",
    "        right_ir = os.path.normpath(os.path.join(patient_folder, f\"{patient_id}_RIGHT_IR.jpg\")).replace(\"\\\\\", \"/\")\n",
    "\n",
    "        # Check if both images exist\n",
    "        left_exists = os.path.exists(left_ir)\n",
    "        right_exists = os.path.exists(right_ir)\n",
    "\n",
    "        if left_exists and right_exists:\n",
    "            valid_rows.append(row)\n",
    "        else:\n",
    "            missing_files = []\n",
    "            if not left_exists:\n",
    "                missing_files.append(left_ir)\n",
    "            if not right_exists:\n",
    "                missing_files.append(right_ir)\n",
    "\n",
    "            logging.warning(\n",
    "                \"Missing images for patient %d. Missing files: %s\",\n",
    "                patient_id,\n",
    "                \", \".join(missing_files)\n",
    "            )\n",
    "\n",
    "    # Create a filtered DataFrame with valid rows\n",
    "    filtered_data = pd.DataFrame(valid_rows, columns=data.columns)\n",
    "    logging.info(\"Total valid patients with all images: %d\", len(filtered_data))\n",
    "    return filtered_data\n",
    "\n",
    "# Create a reusable pipeline\n",
    "def preprocess_data(excel_path, root_dir):\n",
    "    \"\"\"\n",
    "    Main function to preprocess the data:\n",
    "    1. Load and clean the Excel data.\n",
    "    2. Verify the existence of corresponding images.\n",
    "    3. Return a DataFrame with valid entries and associated image paths.\n",
    "    \"\"\"\n",
    "    # Step 1: Load the Excel data\n",
    "    data = load_excel_data(excel_path)\n",
    "\n",
    "    # Step 2: Verify images\n",
    "    valid_data = verify_images(data, root_dir)\n",
    "\n",
    "    # Step 3: Add image paths to the DataFrame for easier access\n",
    "    valid_data['left_image_path'] = valid_data['patient'].apply(\n",
    "        lambda pid: os.path.normpath(\n",
    "            os.path.join(root_dir, str(int(pid)), f\"{int(pid)}_LEFT_IR.jpg\")\n",
    "        ).replace(\"\\\\\", \"/\")\n",
    "    )\n",
    "    valid_data['right_image_path'] = valid_data['patient'].apply(\n",
    "        lambda pid: os.path.normpath(\n",
    "            os.path.join(root_dir, str(int(pid)), f\"{int(pid)}_RIGHT_IR.jpg\")\n",
    "        ).replace(\"\\\\\", \"/\")\n",
    "    )\n",
    "\n",
    "    return valid_data\n",
    "\n",
    "# Path to the Excel file and root directory\n",
    "EXCEL_PATH = r\"D:\\Power-Prediction\\acuityvalues_modified_based_on_sphere.xlsx\"\n",
    "ROOT_DIR = r\"../Choithram Netralaya Data/Images\"\n",
    "\n",
    "# Process the data\n",
    "cleaned_data = preprocess_data(EXCEL_PATH, ROOT_DIR)\n",
    "\n",
    "# Display the count of valid patients\n",
    "logging.info(\"Final count of valid patients: %d\", len(cleaned_data))\n",
    "\n",
    "# Save the cleaned data to a CSV for reuse if needed\n",
    "cleaned_data.to_csv(\"cleaned_data.csv\", index=False)\n",
    "\n",
    "# Display the first few rows\n",
    "print(cleaned_data.head())"
   ],
   "id": "951f170ee120e68b",
   "outputs": [
    {
     "name": "stderr",
     "output_type": "stream",
     "text": [
      "2024-12-25 19:45:41,621 - INFO - Loading Excel data from: D:\\Power-Prediction\\acuityvalues_modified_based_on_sphere.xlsx\n",
      "2024-12-25 19:45:41,640 - INFO - Total rows in Excel: 336\n",
      "2024-12-25 19:45:41,655 - INFO - Rows after dropping missing patient IDs or class values: 336\n",
      "2024-12-25 19:45:41,655 - WARNING - Missing images for patient 1. Missing files: ../Choithram Netralaya Data/Images/1/1_LEFT_IR.jpg\n",
      "2024-12-25 19:45:41,706 - WARNING - Missing images for patient 188. Missing files: ../Choithram Netralaya Data/Images/188/188_RIGHT_IR.jpg\n",
      "2024-12-25 19:45:41,720 - WARNING - Missing images for patient 249. Missing files: ../Choithram Netralaya Data/Images/249/249_RIGHT_IR.jpg\n",
      "2024-12-25 19:45:41,720 - WARNING - Missing images for patient 250. Missing files: ../Choithram Netralaya Data/Images/250/250_RIGHT_IR.jpg\n",
      "2024-12-25 19:45:41,720 - WARNING - Missing images for patient 284. Missing files: ../Choithram Netralaya Data/Images/284/284_LEFT_IR.jpg\n",
      "2024-12-25 19:45:41,734 - WARNING - Missing images for patient 292. Missing files: ../Choithram Netralaya Data/Images/292/292_RIGHT_IR.jpg\n",
      "2024-12-25 19:45:41,736 - WARNING - Missing images for patient 304. Missing files: ../Choithram Netralaya Data/Images/304/304_LEFT_IR.jpg\n",
      "2024-12-25 19:45:41,736 - WARNING - Missing images for patient 352. Missing files: ../Choithram Netralaya Data/Images/352/352_RIGHT_IR.jpg\n",
      "2024-12-25 19:45:41,752 - INFO - Total valid patients with all images: 328\n",
      "2024-12-25 19:45:41,752 - INFO - Final count of valid patients: 328\n"
     ]
    },
    {
     "name": "stdout",
     "output_type": "stream",
     "text": [
      "   patient  r sphere  r cylinder  l sphere  l cylinder  r class  l class  \\\n",
      "1      2.0     -0.50       -0.50      0.00       -0.50      1.0      0.0   \n",
      "2      3.0      1.75       -0.75      0.00       -0.25      2.0      0.0   \n",
      "3      4.0      0.25        0.00      0.25        0.00      2.0      2.0   \n",
      "4      5.0      0.25        0.25      0.25        0.00      2.0      2.0   \n",
      "5      6.0     -1.50       -1.25     -0.75       -1.25      1.0      1.0   \n",
      "\n",
      "                                     left_image_path  \\\n",
      "1  ../Choithram Netralaya Data/Images/2/2_LEFT_IR...   \n",
      "2  ../Choithram Netralaya Data/Images/3/3_LEFT_IR...   \n",
      "3  ../Choithram Netralaya Data/Images/4/4_LEFT_IR...   \n",
      "4  ../Choithram Netralaya Data/Images/5/5_LEFT_IR...   \n",
      "5  ../Choithram Netralaya Data/Images/6/6_LEFT_IR...   \n",
      "\n",
      "                                    right_image_path  \n",
      "1  ../Choithram Netralaya Data/Images/2/2_RIGHT_I...  \n",
      "2  ../Choithram Netralaya Data/Images/3/3_RIGHT_I...  \n",
      "3  ../Choithram Netralaya Data/Images/4/4_RIGHT_I...  \n",
      "4  ../Choithram Netralaya Data/Images/5/5_RIGHT_I...  \n",
      "5  ../Choithram Netralaya Data/Images/6/6_RIGHT_I...  \n"
     ]
    }
   ],
   "execution_count": 3
  },
  {
   "metadata": {
    "ExecuteTime": {
     "end_time": "2024-12-25T14:15:43.614824Z",
     "start_time": "2024-12-25T14:15:43.368908Z"
    }
   },
   "cell_type": "code",
   "source": [
    "import os\n",
    "import pandas as pd\n",
    "from PIL import Image\n",
    "from sklearn.model_selection import train_test_split\n",
    "import torch\n",
    "from torch.utils.data import Dataset, DataLoader\n",
    "import torchvision.transforms as transforms\n",
    "import logging\n",
    "\n",
    "# Setup Logger\n",
    "logging.basicConfig(level=logging.INFO, format=\"%(asctime)s - %(levelname)s - %(message)s\")\n",
    "\n",
    "# Dataset Class\n",
    "class EyeDataset(Dataset):\n",
    "    def __init__(self, data, root_dir, transform=None):\n",
    "        self.data = data\n",
    "        self.root_dir = root_dir\n",
    "        self.transform = transform\n",
    "\n",
    "    def __len__(self):\n",
    "        return len(self.data)\n",
    "\n",
    "    def __getitem__(self, idx):\n",
    "        row = self.data.iloc[idx]\n",
    "        patient_id = int(row['patient'])  # Ensure patient ID is an integer\n",
    "        left_image_path = os.path.normpath(os.path.join(self.root_dir, str(patient_id), f\"{patient_id}_LEFT_IR.jpg\"))\n",
    "        right_image_path = os.path.normpath(os.path.join(self.root_dir, str(patient_id), f\"{patient_id}_RIGHT_IR.jpg\"))\n",
    "\n",
    "        # Check if image files exist\n",
    "        if not os.path.exists(left_image_path):\n",
    "            raise FileNotFoundError(f\"Left IR image not found: {left_image_path}\")\n",
    "        if not os.path.exists(right_image_path):\n",
    "            raise FileNotFoundError(f\"Right IR image not found: {right_image_path}\")\n",
    "\n",
    "        # Load images\n",
    "        left_image = Image.open(left_image_path).convert(\"RGB\")\n",
    "        right_image = Image.open(right_image_path).convert(\"RGB\")\n",
    "\n",
    "        if self.transform:\n",
    "            left_image = self.transform(left_image)\n",
    "            right_image = self.transform(right_image)\n",
    "\n",
    "        # Labels\n",
    "        labels = torch.tensor([row['r class'], row['l class']], dtype=torch.long)\n",
    "\n",
    "        return (left_image, right_image), labels\n",
    "\n",
    "# Load cleaned data\n",
    "cleaned_data_path = \"cleaned_data.csv\"\n",
    "if not os.path.exists(cleaned_data_path):\n",
    "    raise FileNotFoundError(f\"Cleaned data file not found: {cleaned_data_path}\")\n",
    "\n",
    "logging.info(\"Loading cleaned data...\")\n",
    "cleaned_data = pd.read_csv(cleaned_data_path)\n",
    "\n",
    "# Ensure patient IDs are integers in the DataFrame\n",
    "cleaned_data['patient'] = cleaned_data['patient'].apply(lambda x: int(x))\n",
    "\n",
    "# Split data\n",
    "logging.info(\"Splitting data into training and testing sets...\")\n",
    "train_data, test_data = train_test_split(cleaned_data, test_size=0.2, random_state=42)\n",
    "\n",
    "# Define transformations\n",
    "logging.info(\"Defining image transformations...\")\n",
    "transform = transforms.Compose([\n",
    "    transforms.Resize((224, 224)),\n",
    "    transforms.ToTensor(),\n",
    "    transforms.Normalize(mean=[0.5, 0.5, 0.5], std=[0.5, 0.5, 0.5])\n",
    "])\n",
    "\n",
    "# Create datasets\n",
    "logging.info(\"Creating datasets...\")\n",
    "train_dataset = EyeDataset(train_data, root_dir=\"../Choithram Netralaya Data/Images\", transform=transform)\n",
    "test_dataset = EyeDataset(test_data, root_dir=\"../Choithram Netralaya Data/Images\", transform=transform)\n",
    "\n",
    "# Data loaders\n",
    "logging.info(\"Creating data loaders...\")\n",
    "train_loader = DataLoader(train_dataset, batch_size=8, shuffle=True)\n",
    "test_loader = DataLoader(test_dataset, batch_size=8, shuffle=False)\n",
    "\n",
    "logging.info(\"Data loaders created successfully.\")"
   ],
   "id": "b5b2c6d7eedc1988",
   "outputs": [
    {
     "name": "stderr",
     "output_type": "stream",
     "text": [
      "2024-12-25 19:45:43,590 - INFO - Loading cleaned data...\n",
      "2024-12-25 19:45:43,590 - INFO - Splitting data into training and testing sets...\n",
      "2024-12-25 19:45:43,606 - INFO - Defining image transformations...\n",
      "2024-12-25 19:45:43,606 - INFO - Creating datasets...\n",
      "2024-12-25 19:45:43,606 - INFO - Creating data loaders...\n",
      "2024-12-25 19:45:43,606 - INFO - Data loaders created successfully.\n"
     ]
    }
   ],
   "execution_count": 4
  },
  {
   "metadata": {
    "ExecuteTime": {
     "end_time": "2024-12-25T14:15:45.035593Z",
     "start_time": "2024-12-25T14:15:44.955436Z"
    }
   },
   "cell_type": "code",
   "source": [
    "sample = train_dataset[0]\n",
    "print(\"Left Image Shape:\", sample[0][0].shape)\n",
    "print(\"Right Image Shape:\", sample[0][1].shape)\n",
    "print(\"Labels:\", sample[1])"
   ],
   "id": "7a93d90cc233dd75",
   "outputs": [
    {
     "name": "stdout",
     "output_type": "stream",
     "text": [
      "Left Image Shape: torch.Size([3, 224, 224])\n",
      "Right Image Shape: torch.Size([3, 224, 224])\n",
      "Labels: tensor([1, 2])\n"
     ]
    }
   ],
   "execution_count": 5
  },
  {
   "metadata": {
    "ExecuteTime": {
     "end_time": "2024-12-25T14:15:45.958136Z",
     "start_time": "2024-12-25T14:15:45.814893Z"
    }
   },
   "cell_type": "code",
   "source": [
    "for (left_images, right_images), labels in train_loader:\n",
    "    print(\"Batch Left Images Shape:\", left_images.shape)\n",
    "    print(\"Batch Right Images Shape:\", right_images.shape)\n",
    "    print(\"Labels Shape:\", labels.shape)\n",
    "    break\n"
   ],
   "id": "833f3d512f18bbca",
   "outputs": [
    {
     "name": "stdout",
     "output_type": "stream",
     "text": [
      "Batch Left Images Shape: torch.Size([8, 3, 224, 224])\n",
      "Batch Right Images Shape: torch.Size([8, 3, 224, 224])\n",
      "Labels Shape: torch.Size([8, 2])\n"
     ]
    }
   ],
   "execution_count": 6
  },
  {
   "metadata": {
    "ExecuteTime": {
     "end_time": "2024-12-25T14:15:47.393583Z",
     "start_time": "2024-12-25T14:15:47.388946Z"
    }
   },
   "cell_type": "code",
   "source": [
    "for idx in range(5):\n",
    "    row = train_dataset.data.iloc[idx]\n",
    "    print(f\"Patient ID: {row['patient']}, Left Image Path: {row['left_image_path']}, Right Image Path: {row['right_image_path']}\")\n",
    "    print(f\"r class: {row['r class']}, l class: {row['l class']}\")\n"
   ],
   "id": "9d2640641f11a7ce",
   "outputs": [
    {
     "name": "stdout",
     "output_type": "stream",
     "text": [
      "Patient ID: 185, Left Image Path: ../Choithram Netralaya Data/Images/185/185_LEFT_IR.jpg, Right Image Path: ../Choithram Netralaya Data/Images/185/185_RIGHT_IR.jpg\n",
      "r class: 1.0, l class: 2.0\n",
      "Patient ID: 19, Left Image Path: ../Choithram Netralaya Data/Images/19/19_LEFT_IR.jpg, Right Image Path: ../Choithram Netralaya Data/Images/19/19_RIGHT_IR.jpg\n",
      "r class: 1.0, l class: 1.0\n",
      "Patient ID: 26, Left Image Path: ../Choithram Netralaya Data/Images/26/26_LEFT_IR.jpg, Right Image Path: ../Choithram Netralaya Data/Images/26/26_RIGHT_IR.jpg\n",
      "r class: 1.0, l class: 1.0\n",
      "Patient ID: 134, Left Image Path: ../Choithram Netralaya Data/Images/134/134_LEFT_IR.jpg, Right Image Path: ../Choithram Netralaya Data/Images/134/134_RIGHT_IR.jpg\n",
      "r class: 1.0, l class: 1.0\n",
      "Patient ID: 115, Left Image Path: ../Choithram Netralaya Data/Images/115/115_LEFT_IR.jpg, Right Image Path: ../Choithram Netralaya Data/Images/115/115_RIGHT_IR.jpg\n",
      "r class: 2.0, l class: 2.0\n"
     ]
    }
   ],
   "execution_count": 7
  },
  {
   "metadata": {
    "ExecuteTime": {
     "end_time": "2024-12-25T14:15:49.675171Z",
     "start_time": "2024-12-25T14:15:49.664696Z"
    }
   },
   "cell_type": "code",
   "source": [
    "print(\"Unique values in r class:\", train_data['r class'].unique())\n",
    "print(\"Unique values in l class:\", train_data['l class'].unique())\n"
   ],
   "id": "74f4b52d8380644",
   "outputs": [
    {
     "name": "stdout",
     "output_type": "stream",
     "text": [
      "Unique values in r class: [1. 2. 0.]\n",
      "Unique values in l class: [2. 1. 0.]\n"
     ]
    }
   ],
   "execution_count": 8
  },
  {
   "metadata": {
    "ExecuteTime": {
     "end_time": "2024-12-25T14:15:51.585557Z",
     "start_time": "2024-12-25T14:15:51.577919Z"
    }
   },
   "cell_type": "code",
   "source": [
    "import torch.nn as nn\n",
    "from torchvision import models\n",
    "from torchvision.models import EfficientNet_B2_Weights\n",
    "\n",
    "class EyeClassificationModel(nn.Module):\n",
    "    def __init__(self, num_classes=3):\n",
    "        super(EyeClassificationModel, self).__init__()\n",
    "        # Load EfficientNet B2\n",
    "        self.efficientnet = models.efficientnet_b2(weights=EfficientNet_B2_Weights.DEFAULT)\n",
    "        self.efficientnet.classifier[1] = nn.Linear(self.efficientnet.classifier[1].in_features, 256)  # Extract features\n",
    "\n",
    "        # Fully connected layer for classification\n",
    "        self.fc = nn.Sequential(\n",
    "            nn.Linear(256 * 2, 256),  # Combine features from both eyes\n",
    "            nn.ReLU(),\n",
    "            nn.Linear(256, num_classes * 2)  # Output for r class and l class\n",
    "        )\n",
    "\n",
    "    def forward(self, left_image, right_image):\n",
    "        # Extract features from left and right images\n",
    "        left_features = self.efficientnet(left_image)\n",
    "        right_features = self.efficientnet(right_image)\n",
    "\n",
    "        # Concatenate features\n",
    "        combined_features = torch.cat((left_features, right_features), dim=1)\n",
    "\n",
    "        # Pass through fully connected layer\n",
    "        outputs = self.fc(combined_features)\n",
    "\n",
    "        # Separate outputs for r class and l class\n",
    "        r_class_output = outputs[:, :3]  # First three outputs for r class\n",
    "        l_class_output = outputs[:, 3:]  # Next three outputs for l class\n",
    "        return r_class_output, l_class_output"
   ],
   "id": "67cfad8c4519118d",
   "outputs": [],
   "execution_count": 9
  },
  {
   "metadata": {
    "ExecuteTime": {
     "end_time": "2024-12-25T14:17:07.735350Z",
     "start_time": "2024-12-25T14:17:07.728655Z"
    }
   },
   "cell_type": "code",
   "source": [
    "\n",
    "def train_model(model, dataloader, criterion, optimizer, epochs=5):\n",
    "    model.train()\n",
    "    for epoch in range(epochs):\n",
    "        running_loss = 0.0\n",
    "        for (left_images, right_images), labels in dataloader:\n",
    "            left_images, right_images = left_images.to(device), right_images.to(device)\n",
    "            r_class_labels, l_class_labels = labels[:, 0].to(device), labels[:, 1].to(device)\n",
    "\n",
    "            # Zero the gradients\n",
    "            optimizer.zero_grad()\n",
    "\n",
    "            # Forward pass\n",
    "            r_class_output, l_class_output = model(left_images, right_images)\n",
    "\n",
    "            # Compute loss\n",
    "            loss_r = criterion(r_class_output, r_class_labels)\n",
    "            loss_l = criterion(l_class_output, l_class_labels)\n",
    "            loss = loss_r + loss_l\n",
    "\n",
    "            # Backward pass and optimize\n",
    "            loss.backward()\n",
    "            optimizer.step()\n",
    "\n",
    "            running_loss += loss.item()\n",
    "\n",
    "        print(f\"Epoch {epoch + 1}/{epochs}, Loss: {running_loss / len(dataloader)}\")\n"
   ],
   "id": "a6e3048ab3feae51",
   "outputs": [],
   "execution_count": 13
  },
  {
   "metadata": {
    "ExecuteTime": {
     "end_time": "2024-12-25T14:17:08.310155Z",
     "start_time": "2024-12-25T14:17:08.304490Z"
    }
   },
   "cell_type": "code",
   "source": [
    "def evaluate_model(model, dataloader):\n",
    "    model.eval()\n",
    "    correct_r, correct_l = 0, 0\n",
    "    total = 0\n",
    "\n",
    "    with torch.no_grad():\n",
    "        for (left_images, right_images), labels in dataloader:\n",
    "            left_images, right_images = left_images.to(device), right_images.to(device)\n",
    "            r_class_labels, l_class_labels = labels[:, 0].to(device), labels[:, 1].to(device)\n",
    "\n",
    "            # Forward pass\n",
    "            r_class_output, l_class_output = model(left_images, right_images)\n",
    "\n",
    "            # Predictions\n",
    "            _, predicted_r = torch.max(r_class_output, 1)\n",
    "            _, predicted_l = torch.max(l_class_output, 1)\n",
    "\n",
    "            total += labels.size(0)\n",
    "            correct_r += (predicted_r == r_class_labels).sum().item()\n",
    "            correct_l += (predicted_l == l_class_labels).sum().item()\n",
    "\n",
    "    accuracy_r = 100 * correct_r / total\n",
    "    accuracy_l = 100 * correct_l / total\n",
    "    print(f\"Right Eye Accuracy: {accuracy_r:.2f}%\")\n",
    "    print(f\"Left Eye Accuracy: {accuracy_l:.2f}%\")\n"
   ],
   "id": "f12490f7021da90c",
   "outputs": [],
   "execution_count": 14
  },
  {
   "metadata": {
    "ExecuteTime": {
     "end_time": "2024-12-25T14:23:45.137906Z",
     "start_time": "2024-12-25T14:17:09.061984Z"
    }
   },
   "cell_type": "code",
   "source": [
    "model = EyeClassificationModel(num_classes=3).to(device)\n",
    "\n",
    "# Define loss and optimizer\n",
    "criterion = nn.CrossEntropyLoss()\n",
    "optimizer = torch.optim.Adam(model.parameters(), lr=0.001)\n",
    "\n",
    "# Train the model\n",
    "print(\"Training model...\")\n",
    "train_model(model, train_loader, criterion, optimizer, epochs=30)"
   ],
   "id": "2558b745f8854341",
   "outputs": [
    {
     "name": "stdout",
     "output_type": "stream",
     "text": [
      "Training model...\n",
      "Epoch 1/30, Loss: 1.5997589898831917\n",
      "Epoch 2/30, Loss: 1.3184539332534329\n",
      "Epoch 3/30, Loss: 1.2692180131420945\n",
      "Epoch 4/30, Loss: 1.345139610044884\n",
      "Epoch 5/30, Loss: 1.1942945610393176\n",
      "Epoch 6/30, Loss: 0.9848263805562799\n",
      "Epoch 7/30, Loss: 0.894220645680572\n",
      "Epoch 8/30, Loss: 0.6459179166139979\n",
      "Epoch 9/30, Loss: 0.7919321398843419\n",
      "Epoch 10/30, Loss: 0.8337163198174853\n",
      "Epoch 11/30, Loss: 0.6304372473986763\n",
      "Epoch 12/30, Loss: 0.65396441304774\n",
      "Epoch 13/30, Loss: 0.5660620560926019\n",
      "Epoch 14/30, Loss: 0.49116140445976547\n",
      "Epoch 15/30, Loss: 0.40009747135142487\n",
      "Epoch 16/30, Loss: 0.3959970342729128\n",
      "Epoch 17/30, Loss: 0.34744741361249576\n",
      "Epoch 18/30, Loss: 0.27120166695253417\n",
      "Epoch 19/30, Loss: 0.36228063981980085\n",
      "Epoch 20/30, Loss: 0.44150315275923774\n",
      "Epoch 21/30, Loss: 0.1965312214398926\n",
      "Epoch 22/30, Loss: 0.17514789218054802\n",
      "Epoch 23/30, Loss: 0.1775484825625564\n",
      "Epoch 24/30, Loss: 0.12438874496288146\n",
      "Epoch 25/30, Loss: 0.12131097546962062\n",
      "Epoch 26/30, Loss: 0.23309767654052738\n",
      "Epoch 27/30, Loss: 0.16737378704728503\n",
      "Epoch 28/30, Loss: 0.10297157032641047\n",
      "Epoch 29/30, Loss: 0.1479946264616129\n",
      "Epoch 30/30, Loss: 0.21865531901395033\n"
     ]
    }
   ],
   "execution_count": 15
  },
  {
   "metadata": {
    "ExecuteTime": {
     "end_time": "2024-12-25T14:24:27.308212Z",
     "start_time": "2024-12-25T14:24:25.065127Z"
    }
   },
   "cell_type": "code",
   "source": [
    "# Evaluate the model\n",
    "print(\"Evaluating model...\")\n",
    "evaluate_model(model, test_loader)\n"
   ],
   "id": "579387d474a0fd1f",
   "outputs": [
    {
     "name": "stdout",
     "output_type": "stream",
     "text": [
      "Evaluating model...\n",
      "Right Eye Accuracy: 74.24%\n",
      "Left Eye Accuracy: 74.24%\n"
     ]
    }
   ],
   "execution_count": 16
  },
  {
   "metadata": {
    "ExecuteTime": {
     "end_time": "2024-12-25T14:27:20.053984Z",
     "start_time": "2024-12-25T14:27:20.041924Z"
    }
   },
   "cell_type": "code",
   "source": [
    "def evaluate_model_with_metrics(model, dataloader):\n",
    "    model.eval()\n",
    "    correct_r, correct_l = 0, 0\n",
    "    total = 0\n",
    "\n",
    "    r_class_true, r_class_pred = [], []\n",
    "    l_class_true, l_class_pred = [], []\n",
    "\n",
    "    with torch.no_grad():\n",
    "        for (left_images, right_images), labels in dataloader:\n",
    "            left_images, right_images = left_images.to(device), right_images.to(device)\n",
    "            r_class_labels, l_class_labels = labels[:, 0].to(device), labels[:, 1].to(device)\n",
    "\n",
    "            # Forward pass\n",
    "            r_class_output, l_class_output = model(left_images, right_images)\n",
    "\n",
    "            # Predictions\n",
    "            _, predicted_r = torch.max(r_class_output, 1)\n",
    "            _, predicted_l = torch.max(l_class_output, 1)\n",
    "\n",
    "            # Store true and predicted labels\n",
    "            r_class_true.extend(r_class_labels.cpu().numpy())\n",
    "            r_class_pred.extend(predicted_r.cpu().numpy())\n",
    "            l_class_true.extend(l_class_labels.cpu().numpy())\n",
    "            l_class_pred.extend(predicted_l.cpu().numpy())\n",
    "\n",
    "            total += labels.size(0)\n",
    "            correct_r += (predicted_r == r_class_labels).sum().item()\n",
    "            correct_l += (predicted_l == l_class_labels).sum().item()\n",
    "\n",
    "    accuracy_r = 100 * correct_r / total\n",
    "    accuracy_l = 100 * correct_l / total\n",
    "    print(f\"Right Eye Accuracy: {accuracy_r:.2f}%\")\n",
    "    print(f\"Left Eye Accuracy: {accuracy_l:.2f}%\")\n",
    "\n",
    "    return r_class_true, r_class_pred, l_class_true, l_class_pred\n"
   ],
   "id": "c7544de5c49069f8",
   "outputs": [],
   "execution_count": 18
  },
  {
   "metadata": {
    "ExecuteTime": {
     "end_time": "2024-12-25T14:27:43.401417Z",
     "start_time": "2024-12-25T14:27:40.992521Z"
    }
   },
   "cell_type": "code",
   "source": "r_class_true, r_class_pred, l_class_true, l_class_pred = evaluate_model_with_metrics(model, test_loader)\n",
   "id": "d7344d8fd7c7146c",
   "outputs": [
    {
     "name": "stdout",
     "output_type": "stream",
     "text": [
      "Right Eye Accuracy: 74.24%\n",
      "Left Eye Accuracy: 74.24%\n"
     ]
    }
   ],
   "execution_count": 20
  },
  {
   "metadata": {
    "ExecuteTime": {
     "end_time": "2024-12-25T14:27:45.969318Z",
     "start_time": "2024-12-25T14:27:45.653402Z"
    }
   },
   "cell_type": "code",
   "source": [
    "from sklearn.metrics import confusion_matrix, ConfusionMatrixDisplay\n",
    "import matplotlib.pyplot as plt\n",
    "\n",
    "def plot_confusion_matrix(true_labels, predicted_labels, title):\n",
    "    cm = confusion_matrix(true_labels, predicted_labels, labels=[0, 1, 2])\n",
    "    disp = ConfusionMatrixDisplay(confusion_matrix=cm, display_labels=[\"No Power\", \"Myopia\", \"Hypermetropia\"])\n",
    "    disp.plot(cmap=plt.cm.Blues)\n",
    "    plt.title(title)\n",
    "    plt.show()\n",
    "\n",
    "# Right Eye Confusion Matrix\n",
    "plot_confusion_matrix(r_class_true, r_class_pred, \"Right Eye Confusion Matrix\")\n",
    "\n",
    "# Left Eye Confusion Matrix\n",
    "plot_confusion_matrix(l_class_true, l_class_pred, \"Left Eye Confusion Matrix\")\n"
   ],
   "id": "37351b163ae83e76",
   "outputs": [
    {
     "data": {
      "text/plain": [
       "<Figure size 640x480 with 2 Axes>"
      ],
      "image/png": "[encoded data removed]"
     },
     "metadata": {},
     "output_type": "display_data"
    },
    {
     "data": {
      "text/plain": [
       "<Figure size 640x480 with 2 Axes>"
      ],
      "image/png": "[encoded data removed]"
     },
     "metadata": {},
     "output_type": "display_data"
    }
   ],
   "execution_count": 21
  },
  {
   "metadata": {
    "ExecuteTime": {
     "end_time": "2024-12-25T15:30:07.486064Z",
     "start_time": "2024-12-25T15:30:07.196230Z"
    }
   },
   "cell_type": "code",
   "source": [
    "import matplotlib.pyplot as plt\n",
    "import numpy as np\n",
    "\n",
    "def plot_actual_vs_predicted(actual, predicted, title):\n",
    "    classes = [\"No Power\", \"Myopia\", \"Hypermetropia\"]\n",
    "\n",
    "    # Count occurrences for each class\n",
    "    actual_counts = [actual.count(i) for i in range(3)]\n",
    "    predicted_counts = [predicted.count(i) for i in range(3)]\n",
    "\n",
    "    # Plotting\n",
    "    x = np.arange(len(classes))  # Class indices\n",
    "    width = 0.35  # Bar width\n",
    "\n",
    "    fig, ax = plt.subplots(figsize=(8, 6))\n",
    "    bars1 = ax.bar(x - width/2, actual_counts, width, label='Actual', color='blue')\n",
    "    bars2 = ax.bar(x + width/2, predicted_counts, width, label='Predicted', color='orange')\n",
    "\n",
    "    # Add labels, title, and legend\n",
    "    ax.set_xlabel('Classes')\n",
    "    ax.set_ylabel('Counts')\n",
    "    ax.set_title(title)\n",
    "    ax.set_xticks(x)\n",
    "    ax.set_xticklabels(classes)\n",
    "    ax.legend()\n",
    "\n",
    "    # Add value labels on the bars\n",
    "    for bar in bars1:\n",
    "        height = bar.get_height()\n",
    "        ax.text(bar.get_x() + bar.get_width() / 2.0, height, f'{height}', ha='center', va='bottom')\n",
    "\n",
    "    for bar in bars2:\n",
    "        height = bar.get_height()\n",
    "        ax.text(bar.get_x() + bar.get_width() / 2.0, height, f'{height}', ha='center', va='bottom')\n",
    "\n",
    "    plt.show()\n",
    "\n",
    "# Plot for Right Eye\n",
    "plot_actual_vs_predicted(r_class_true, r_class_pred, \"Right Eye: Actual vs Predicted\")\n",
    "\n",
    "# Plot for Left Eye\n",
    "plot_actual_vs_predicted(l_class_true, l_class_pred, \"Left Eye: Actual vs Predicted\")\n"
   ],
   "id": "c1e259cf53b2085d",
   "outputs": [
    {
     "data": {
      "text/plain": [
       "<Figure size 800x600 with 1 Axes>"
      ],
      "image/png": "[encoded data removed]"
     },
     "metadata": {},
     "output_type": "display_data"
    },
    {
     "data": {
      "text/plain": [
       "<Figure size 800x600 with 1 Axes>"
      ],
      "image/png": "[encoded data removed]"
     },
     "metadata": {},
     "output_type": "display_data"
    }
   ],
   "execution_count": 24
  },
  {
   "metadata": {
    "ExecuteTime": {
     "end_time": "2024-12-25T14:59:27.580919Z",
     "start_time": "2024-12-25T14:59:27.446467Z"
    }
   },
   "cell_type": "code",
   "source": [
    "# Save the model\n",
    "model_path = \"eye_classification_model_model-1-b2.pth\"\n",
    "torch.save(model.state_dict(), model_path)\n",
    "print(f\"Model saved to {model_path}\")\n"
   ],
   "id": "b304e6b2dc21e1c0",
   "outputs": [
    {
     "name": "stdout",
     "output_type": "stream",
     "text": [
      "Model saved to eye_classification_model_model-1-b2.pth\n"
     ]
    }
   ],
   "execution_count": 23
  },
  {
   "metadata": {},
   "cell_type": "code",
   "outputs": [],
   "execution_count": null,
   "source": "",
   "id": "8cd6a0ec801c2ef4"
  }
 ],
 "metadata": {
  "kernelspec": {
   "display_name": "Python 3",
   "language": "python",
   "name": "python3"
  },
  "language_info": {
   "codemirror_mode": {
    "name": "ipython",
    "version": 2
   },
   "file_extension": ".py",
   "mimetype": "text/x-python",
   "name": "python",
   "nbconvert_exporter": "python",
   "pygments_lexer": "ipython2",
   "version": "2.7.6"
  }
 },
 "nbformat": 4,
 "nbformat_minor": 5
}
